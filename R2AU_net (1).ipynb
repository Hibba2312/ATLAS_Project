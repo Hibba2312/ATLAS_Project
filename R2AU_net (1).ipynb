{
  "nbformat": 4,
  "nbformat_minor": 0,
  "metadata": {
    "colab": {
      "name": "R2AU-net.ipynb",
      "provenance": [],
      "collapsed_sections": []
    },
    "kernelspec": {
      "name": "python3",
      "display_name": "Python 3"
    },
    "language_info": {
      "name": "python"
    }
  },
  "cells": [
    {
      "cell_type": "markdown",
      "source": [
        "Attention Recurrent-Residual U-net"
      ],
      "metadata": {
        "id": "0yzOPSGXnl3u"
      }
    },
    {
      "cell_type": "code",
      "source": [
        "import torch\n",
        "import torch.nn as nn\n",
        "import torch.nn.functional as F\n",
        "from torch.nn import init"
      ],
      "metadata": {
        "id": "Nu2MyL6XxM1W"
      },
      "execution_count": null,
      "outputs": []
    },
    {
      "cell_type": "markdown",
      "source": [
        "Recurrent Block"
      ],
      "metadata": {
        "id": "clYrj13G6sZH"
      }
    },
    {
      "cell_type": "code",
      "source": [
        "class Recurrent_block(nn.Module):\n",
        "    def __init__(self,\n",
        "                 out_ch,\n",
        "                 t=2,\n",
        "                 num_groups=8):\n",
        "        super(Recurrent_block, self).__init__()\n",
        "\n",
        "        self.t = t\n",
        "        self.out_ch = out_ch\n",
        "        self.conv = nn.Sequential(\n",
        "            nn.Conv3d(out_ch, out_ch, kernel_size=3, stride=1, padding=1, bias=True),\n",
        "            nn.GroupNorm(num_groups,out_ch),\n",
        "            nn.ReLU(inplace=True)\n",
        "        )\n",
        "\n",
        "    def forward(self, x):\n",
        "        for i in range(self.t):\n",
        "            if i == 0:\n",
        "                x = self.conv(x)\n",
        "            out = self.conv(x + x)\n",
        "        return out"
      ],
      "metadata": {
        "id": "xK16idKbxSYy"
      },
      "execution_count": null,
      "outputs": []
    },
    {
      "cell_type": "markdown",
      "source": [
        "Recurrent-Residual Block"
      ],
      "metadata": {
        "id": "nOp81wR9nNp0"
      }
    },
    {
      "cell_type": "code",
      "source": [
        "class RRCNN_block(nn.Module):\n",
        "    def __init__(self,\n",
        "                 ch_in,\n",
        "                 ch_out,\n",
        "                 t=2):\n",
        "        super(RRCNN_block,self).__init__()\n",
        "        self.RCNN = nn.Sequential(\n",
        "            Recurrent_block(ch_out,t=t),\n",
        "            Recurrent_block(ch_out,t=t)\n",
        "        )\n",
        "        self.Conv_1x1 = nn.Conv3d(ch_in,ch_out,kernel_size=1,stride=1,padding=0)\n",
        "\n",
        "    def forward(self,x):\n",
        "        x = self.Conv_1x1(x)\n",
        "        x1 = self.RCNN(x)\n",
        "        return x+x1\n"
      ],
      "metadata": {
        "id": "nDKmf2kkBj0X"
      },
      "execution_count": null,
      "outputs": []
    },
    {
      "cell_type": "markdown",
      "source": [
        "Decoder Block"
      ],
      "metadata": {
        "id": "hRSltDeLnv4Y"
      }
    },
    {
      "cell_type": "code",
      "source": [
        "class up_conv(nn.Module):\n",
        "    def __init__(self,\n",
        "                 ch_in,\n",
        "                 ch_out,\n",
        "                 num_groups=8):\n",
        "        super(up_conv,self).__init__()\n",
        "        self.up = nn.Sequential(\n",
        "            nn.Upsample(scale_factor=2),\n",
        "            nn.Conv3d(ch_in,ch_out,kernel_size=3,stride=1,padding=1,bias=True),\n",
        "\t\t    nn.GroupNorm(num_groups,ch_out),\n",
        "\t\t\tnn.ReLU(inplace=True)\n",
        "        )\n",
        "\n",
        "    def forward(self,x):\n",
        "        x = self.up(x)\n",
        "        return x"
      ],
      "metadata": {
        "id": "DKsAMIfwghdt"
      },
      "execution_count": null,
      "outputs": []
    },
    {
      "cell_type": "markdown",
      "source": [
        "Attention Block"
      ],
      "metadata": {
        "id": "Oi6kzCfgnz7z"
      }
    },
    {
      "cell_type": "code",
      "source": [
        "class Attention_block(nn.Module):\n",
        "    def __init__(self,\n",
        "                 F_g,\n",
        "                 F_l,\n",
        "                 F_int,\n",
        "                 num_groups=8):\n",
        "        super(Attention_block,self).__init__()\n",
        "        self.W_g = nn.Sequential(\n",
        "            nn.Conv3d(F_g, F_int, kernel_size=1,stride=1,padding=0,bias=True),\n",
        "            nn.GroupNorm(num_groups,F_int)\n",
        "            )\n",
        "        \n",
        "        self.W_x = nn.Sequential(\n",
        "            nn.Conv3d(F_l, F_int, kernel_size=1,stride=1,padding=0,bias=True),\n",
        "            nn.GroupNorm(num_groups,F_int)\n",
        "        )\n",
        "\n",
        "        self.psi = nn.Sequential(\n",
        "            nn.Conv3d(F_int, 1, kernel_size=1,stride=1,padding=0,bias=True),\n",
        "            nn.GroupNorm(num_groups,1),\n",
        "            nn.Sigmoid()\n",
        "        )\n",
        "        \n",
        "        self.relu = nn.ReLU(inplace=True)\n",
        "        \n",
        "    def forward(self,g,x):\n",
        "        g1 = self.W_g(g)\n",
        "        x1 = self.W_x(x)\n",
        "        psi = self.relu(g1+x1)\n",
        "        psi = self.psi(psi)\n",
        "\n",
        "        return x*psi"
      ],
      "metadata": {
        "id": "JWQxzpd59I-C"
      },
      "execution_count": null,
      "outputs": []
    },
    {
      "cell_type": "markdown",
      "source": [
        "R2AU-net "
      ],
      "metadata": {
        "id": "clLu2cSKpTmi"
      }
    },
    {
      "cell_type": "code",
      "source": [
        "\n",
        "class R2AttU_Net(nn.Module):\n",
        "    def __init__(self,\n",
        "                 in_channel,\n",
        "                 n_classes,\n",
        "                 use_bias=True,\n",
        "                 inplanes=32,\n",
        "                 num_groups=8,\n",
        "                 t=2): # Change these according to later code?\n",
        "        self.in_channel = in_channel\n",
        "        self.n_classes = n_classes\n",
        "        self.inplanes = inplanes\n",
        "        self.num_groups = num_groups\n",
        "        planes = [inplanes * int(pow(2, i)) for i in range(0, 5)] # int()= integer, pow()=power, a list is created: [32,64,128,256,512,1024]         \n",
        "        super(R2AttU_Net,self).__init__()\n",
        "        \n",
        "        self.Maxpool = nn.MaxPool3d(kernel_size=2,stride=2)\n",
        "        self.Upsample = nn.Upsample(scale_factor=2)\n",
        "\n",
        "        self.RRCNN1 = RRCNN_block(in_channel,planes[1],t=t)\n",
        "\n",
        "        self.RRCNN2 = RRCNN_block(planes[1],planes[2],t=t)\n",
        "        \n",
        "        self.RRCNN3 = RRCNN_block(planes[2],planes[3],t=t)\n",
        "        \n",
        "        self.RRCNN4 = RRCNN_block(planes[3],planes[4],t=t)\n",
        "        \n",
        "        self.RRCNN5 = RRCNN_block(planes[4],planes[4],t=t)\n",
        "        \n",
        "\n",
        "        self.Up5 = up_conv(planes[4],planes[4])\n",
        "        self.Att5 = Attention_block(F_g= planes[4],F_l= planes[4],F_int= planes[3])\n",
        "        self.Up_RRCNN5 = RRCNN_block(planes[4], planes[4],t=t)\n",
        "        \n",
        "        self.Up4 = up_conv(planes[4],planes[3])\n",
        "        self.Att4 = Attention_block(F_g= planes[3],F_l= planes[3],F_int= planes[2])\n",
        "        self.Up_RRCNN4 = RRCNN_block(planes[4], planes[3],t=t)\n",
        "        \n",
        "        self.Up3 = up_conv(planes[3],planes[2])\n",
        "        self.Att3 = Attention_block(F_g= planes[2],F_l= planes[2],F_int= planes[1])\n",
        "        self.Up_RRCNN3 = RRCNN_block(planes[3], planes[2],t=t)\n",
        "        \n",
        "        self.Up2 = up_conv(planes[2],planes[1])\n",
        "        self.Att2 = Attention_block(F_g= planes[1],F_l= planes[1],F_int=planes[0])\n",
        "        self.Up_RRCNN2 = RRCNN_block(planes[2], planes[1],t=t)\n",
        "\n",
        "        self.Conv_1x1 = nn.Conv3d(planes[1],output_ch,kernel_size=1,stride=1,padding=0)\n",
        "\n",
        "        # Initializing weights in encoder and decoder according to type of layer:\n",
        "        for m in self.modules():\n",
        "            if isinstance(m, nn.Conv3d) or isinstance(m, nn.ConvTranspose3D): # Should this be up_conv or Upsample?\n",
        "                nn.init.kaiming_normal_(m.weight,\n",
        "                                        mode='fan_out',\n",
        "                                        nonlinearity='relu')\n",
        "            elif isinstance(m, nn.GroupNorm):\n",
        "                nn.init.constant_(m.weight, 1)\n",
        "                nn.init.constant_(m.bias, 0)\n",
        "\n",
        "\n",
        "    def forward(self,x):\n",
        "        # encoding path\n",
        "        x1 = self.RRCNN1(x)\n",
        "\n",
        "        x2 = self.Maxpool(x1)\n",
        "        x2 = self.RRCNN2(x2)\n",
        "        \n",
        "        x3 = self.Maxpool(x2)\n",
        "        x3 = self.RRCNN3(x3)\n",
        "\n",
        "        x4 = self.Maxpool(x3)\n",
        "        x4 = self.RRCNN4(x4)\n",
        "\n",
        "        x5 = self.Maxpool(x4)\n",
        "        x5 = self.RRCNN5(x5)\n",
        "\n",
        "        # decoding + concat path\n",
        "        d5 = self.Up5(x5)\n",
        "        x4 = self.Att5(g=d5,x=x4)\n",
        "        d5 = torch.cat((x4,d5),dim=1)\n",
        "        d5 = self.Up_RRCNN5(d5)\n",
        "        \n",
        "        d4 = self.Up4(d5)\n",
        "        x3 = self.Att4(g=d4,x=x3)\n",
        "        d4 = torch.cat((x3,d4),dim=1)\n",
        "        d4 = self.Up_RRCNN4(d4)\n",
        "\n",
        "        d3 = self.Up3(d4)\n",
        "        x2 = self.Att3(g=d3,x=x2)\n",
        "        d3 = torch.cat((x2,d3),dim=1)\n",
        "        d3 = self.Up_RRCNN3(d3)\n",
        "\n",
        "        d2 = self.Up2(d3)\n",
        "        x1 = self.Att2(g=d2,x=x1)\n",
        "        d2 = torch.cat((x1,d2),dim=1)\n",
        "        d2 = self.Up_RRCNN2(d2)\n",
        "\n",
        "        d1 = self.Conv_1x1(d2)\n",
        "\n",
        "        return d1"
      ],
      "metadata": {
        "id": "Ten2IxAWBkQE"
      },
      "execution_count": null,
      "outputs": []
    }
  ]
}